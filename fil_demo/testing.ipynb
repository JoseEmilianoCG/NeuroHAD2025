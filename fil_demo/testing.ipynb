{
 "cells": [
  {
   "cell_type": "code",
   "execution_count": 5,
   "id": "663311d0",
   "metadata": {},
   "outputs": [
    {
     "name": "stdout",
     "output_type": "stream",
     "text": [
      "4206-7KZX-023B\n"
     ]
    }
   ],
   "source": [
    "import argparse\n",
    "\n",
    "parser = argparse.ArgumentParser()\n",
    "parser.add_argument('--serial-number', type=str, help='serial number',\n",
    "                    required=False, default='4206-7KZX-023B')\n",
    "\n",
    "args, unknown = parser.parse_known_args()  # en lugar de parse_args()\n",
    "print(args.serial_number)\n"
   ]
  },
  {
   "cell_type": "code",
   "execution_count": 6,
   "id": "7a2b4f40",
   "metadata": {},
   "outputs": [
    {
     "name": "stdout",
     "output_type": "stream",
     "text": [
      "{'accel_channels': [17, 18, 19],\n",
      " 'battery_channel': 29,\n",
      " 'ecg_channels': [1, 2, 3, 4, 5, 6, 7, 8, 9, 10, 11, 12, 13, 14, 15, 16],\n",
      " 'eda_channels': [23],\n",
      " 'eeg_channels': [1, 2, 3, 4, 5, 6, 7, 8, 9, 10, 11, 12, 13, 14, 15, 16],\n",
      " 'eeg_names': 'Fz,C3,Cz,C4,Pz,PO7,Oz,PO8,F5,F7,F3,F1,F2,F4,F6,F8',\n",
      " 'emg_channels': [1, 2, 3, 4, 5, 6, 7, 8, 9, 10, 11, 12, 13, 14, 15, 16],\n",
      " 'eog_channels': [1, 2, 3, 4, 5, 6, 7, 8, 9, 10, 11, 12, 13, 14, 15, 16],\n",
      " 'gyro_channels': [20, 21, 22],\n",
      " 'marker_channel': 31,\n",
      " 'name': 'Synthetic',\n",
      " 'num_rows': 32,\n",
      " 'package_num_channel': 0,\n",
      " 'ppg_channels': [24, 25],\n",
      " 'resistance_channels': [27, 28],\n",
      " 'sampling_rate': 250,\n",
      " 'temperature_channels': [26],\n",
      " 'timestamp_channel': 30}\n"
     ]
    }
   ],
   "source": [
    "from pprint import pprint\n",
    "\n",
    "from brainflow.board_shim import BoardShim, BoardIds\n",
    "\n",
    "board_id = BoardIds.SYNTHETIC_BOARD.value\n",
    "pprint(BoardShim.get_board_descr(board_id))"
   ]
  },
  {
   "cell_type": "code",
   "execution_count": 7,
   "id": "bb4bd44c",
   "metadata": {},
   "outputs": [
    {
     "name": "stdout",
     "output_type": "stream",
     "text": [
      "{'eeg_channels': [1, 2, 3, 4],\n",
      " 'eeg_names': 'TP9,AF7,AF8,TP10',\n",
      " 'marker_channel': 7,\n",
      " 'name': 'Muse2',\n",
      " 'num_rows': 8,\n",
      " 'other_channels': [5],\n",
      " 'package_num_channel': 0,\n",
      " 'sampling_rate': 256,\n",
      " 'timestamp_channel': 6}\n"
     ]
    }
   ],
   "source": [
    "board_id = BoardIds.MUSE_2_BOARD.value\n",
    "pprint(BoardShim.get_board_descr(board_id))"
   ]
  },
  {
   "cell_type": "code",
   "execution_count": 17,
   "id": "d2853cac",
   "metadata": {},
   "outputs": [
    {
     "data": {
      "text/plain": [
       "['TP9', 'AF7', 'AF8', 'TP10', 'board_ts', 'unix_ts']"
      ]
     },
     "execution_count": 17,
     "metadata": {},
     "output_type": "execute_result"
    }
   ],
   "source": [
    "channel_names = BoardShim.get_board_descr(board_id)['eeg_names'].split(',')\n",
    "channel_names + ['board_ts','unix_ts']"
   ]
  },
  {
   "cell_type": "code",
   "execution_count": 15,
   "id": "47861d91",
   "metadata": {},
   "outputs": [
    {
     "data": {
      "text/plain": [
       "[1, 2, 3, 4]"
      ]
     },
     "execution_count": 15,
     "metadata": {},
     "output_type": "execute_result"
    }
   ],
   "source": [
    "eeg_channels = BoardShim.get_eeg_channels(board_id)\n",
    "eeg_channels"
   ]
  },
  {
   "cell_type": "code",
   "execution_count": 16,
   "id": "7c851947",
   "metadata": {},
   "outputs": [
    {
     "data": {
      "text/plain": [
       "256"
      ]
     },
     "execution_count": 16,
     "metadata": {},
     "output_type": "execute_result"
    }
   ],
   "source": [
    "sampling_rate = BoardShim.get_sampling_rate(BoardIds.MUSE_2_BOARD)\n",
    "sampling_rate"
   ]
  },
  {
   "cell_type": "code",
   "execution_count": null,
   "id": "425b1fe6",
   "metadata": {},
   "outputs": [
    {
     "name": "stderr",
     "output_type": "stream",
     "text": [
      "C:\\Users\\josee\\AppData\\Local\\Temp\\ipykernel_20256\\3274798860.py:3: RuntimeWarning: invalid value encountered in log\n",
      "  np.log(-10)\n"
     ]
    },
    {
     "data": {
      "text/plain": [
       "np.float64(nan)"
      ]
     },
     "execution_count": 24,
     "metadata": {},
     "output_type": "execute_result"
    }
   ],
   "source": [
    "import numpy as np\n",
    "eps = np.finfo(float).tiny \n",
    "np.log()"
   ]
  },
  {
   "cell_type": "code",
   "execution_count": 31,
   "id": "78ed5cc4",
   "metadata": {},
   "outputs": [
    {
     "name": "stdout",
     "output_type": "stream",
     "text": [
      "[1.   0.   0.75 0.75]\n",
      "[  1.   -10.     0.75   0.75]\n"
     ]
    }
   ],
   "source": [
    "import numpy as np\n",
    "np.random.seed(0)\n",
    "\n",
    "prob = np.random.randint(5, size=4) /4\n",
    "print(prob)\n",
    "\n",
    "result = np.where(prob > 0.0000000001, prob, -10)\n",
    "# print(result)\n",
    "a = np.log10(result, where=result > 0)\n",
    "print(result)"
   ]
  },
  {
   "cell_type": "code",
   "execution_count": 32,
   "id": "3dd694a1",
   "metadata": {},
   "outputs": [
    {
     "data": {
      "text/plain": [
       "array([1.  , 0.  , 0.75, 0.75])"
      ]
     },
     "execution_count": 32,
     "metadata": {},
     "output_type": "execute_result"
    }
   ],
   "source": [
    "prob"
   ]
  },
  {
   "cell_type": "code",
   "execution_count": 33,
   "id": "bf3a5256",
   "metadata": {},
   "outputs": [
    {
     "data": {
      "text/plain": [
       "array([  1.  , -10.  ,   0.75,   0.75])"
      ]
     },
     "execution_count": 33,
     "metadata": {},
     "output_type": "execute_result"
    }
   ],
   "source": [
    "result"
   ]
  },
  {
   "cell_type": "code",
   "execution_count": 34,
   "id": "79565463",
   "metadata": {},
   "outputs": [
    {
     "data": {
      "text/plain": [
       "array([  0.        , -10.        ,  -0.12493874,  -0.12493874])"
      ]
     },
     "execution_count": 34,
     "metadata": {},
     "output_type": "execute_result"
    }
   ],
   "source": [
    "a"
   ]
  },
  {
   "cell_type": "code",
   "execution_count": 1,
   "id": "c8253643",
   "metadata": {},
   "outputs": [
    {
     "data": {
      "text/plain": [
       "{'COMB0': 0,\n",
       " 'COMB1': 1,\n",
       " 'COMB2': 2,\n",
       " 'COMB3': 3,\n",
       " 'COMB4': 4,\n",
       " 'COMB5': 5,\n",
       " 'COMB6': 6,\n",
       " 'COMB7': 7,\n",
       " 'COMB8': 8,\n",
       " 'COMB9': 9,\n",
       " 'COMB10': 10,\n",
       " 'COMB11': 11,\n",
       " 'COMB12': 12,\n",
       " 'COMB13': 13,\n",
       " 'COMB14': 14,\n",
       " 'COMB15': 15}"
      ]
     },
     "execution_count": 1,
     "metadata": {},
     "output_type": "execute_result"
    }
   ],
   "source": [
    "{f'COMB{k}': k for k in range(16)}"
   ]
  },
  {
   "cell_type": "code",
   "execution_count": null,
   "id": "9aa213d5",
   "metadata": {},
   "outputs": [],
   "source": []
  }
 ],
 "metadata": {
  "kernelspec": {
   "display_name": ".venv (3.11.0)",
   "language": "python",
   "name": "python3"
  },
  "language_info": {
   "codemirror_mode": {
    "name": "ipython",
    "version": 3
   },
   "file_extension": ".py",
   "mimetype": "text/x-python",
   "name": "python",
   "nbconvert_exporter": "python",
   "pygments_lexer": "ipython3",
   "version": "3.11.0"
  }
 },
 "nbformat": 4,
 "nbformat_minor": 5
}
