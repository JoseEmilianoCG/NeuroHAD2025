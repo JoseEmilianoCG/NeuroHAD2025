{
 "cells": [
  {
   "cell_type": "code",
   "execution_count": 7,
   "id": "663311d0",
   "metadata": {},
   "outputs": [
    {
     "name": "stdout",
     "output_type": "stream",
     "text": [
      "4206-7KZX-023B\n"
     ]
    }
   ],
   "source": [
    "import argparse\n",
    "\n",
    "parser = argparse.ArgumentParser()\n",
    "parser.add_argument('--serial-number', type=str, help='serial number',\n",
    "                    required=False, default='4206-7KZX-023B')\n",
    "\n",
    "args, unknown = parser.parse_known_args()  # en lugar de parse_args()\n",
    "print(args.serial_number)\n"
   ]
  },
  {
   "cell_type": "code",
   "execution_count": null,
   "id": "7a2b4f40",
   "metadata": {},
   "outputs": [],
   "source": []
  }
 ],
 "metadata": {
  "kernelspec": {
   "display_name": ".venv (3.13.4)",
   "language": "python",
   "name": "python3"
  },
  "language_info": {
   "codemirror_mode": {
    "name": "ipython",
    "version": 3
   },
   "file_extension": ".py",
   "mimetype": "text/x-python",
   "name": "python",
   "nbconvert_exporter": "python",
   "pygments_lexer": "ipython3",
   "version": "3.13.4"
  }
 },
 "nbformat": 4,
 "nbformat_minor": 5
}
